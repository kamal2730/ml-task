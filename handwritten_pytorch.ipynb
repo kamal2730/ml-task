{
 "cells": [
  {
   "cell_type": "code",
   "execution_count": 24,
   "id": "3b557828",
   "metadata": {},
   "outputs": [],
   "source": [
    "from torch import nn,save,load\n",
    "from torch.optim import Adam\n",
    "from torch.utils.data import DataLoader\n",
    "from torchvision import datasets\n",
    "from torchvision.transforms import ToTensor,transforms"
   ]
  },
  {
   "cell_type": "code",
   "execution_count": 25,
   "id": "fa1f48cc",
   "metadata": {},
   "outputs": [
    {
     "name": "stdout",
     "output_type": "stream",
     "text": [
      "Using device: mps\n"
     ]
    }
   ],
   "source": [
    "import torch\n",
    "if torch.backends.mps.is_available():\n",
    "    device = torch.device(\"mps\")\n",
    "else:\n",
    "    device = torch.device(\"cpu\")\n",
    "\n",
    "print(\"Using device:\", device)"
   ]
  },
  {
   "cell_type": "code",
   "execution_count": 26,
   "id": "c5418dd1",
   "metadata": {},
   "outputs": [],
   "source": [
    "transform = transforms.ToTensor()\n",
    "\n",
    "train_dataset = datasets.MNIST(root='./data', train=True, transform=transform, download=True)\n",
    "test_dataset = datasets.MNIST(root='./data', train=False, transform=transform, download=True)\n",
    "\n",
    "train_loader = DataLoader(train_dataset, batch_size=32, shuffle=True)\n",
    "test_loader = DataLoader(test_dataset, batch_size=32, shuffle=False)"
   ]
  },
  {
   "cell_type": "code",
   "execution_count": 27,
   "id": "9e4b48ba",
   "metadata": {},
   "outputs": [],
   "source": [
    "def evaluate(model, dataloader, device):\n",
    "    model.eval()  \n",
    "    correct = 0\n",
    "    total = 0\n",
    "\n",
    "    with torch.no_grad():  \n",
    "        for data, target in dataloader:\n",
    "            data, target = data.to(device), target.to(device)\n",
    "            output = model(data)\n",
    "            predictions = output.argmax(dim=1)\n",
    "            correct += (predictions == target).sum().item()\n",
    "            total += target.size(0)\n",
    "\n",
    "    accuracy = 100 * correct / total\n",
    "    return accuracy"
   ]
  },
  {
   "cell_type": "code",
   "execution_count": 28,
   "id": "57efcbee",
   "metadata": {},
   "outputs": [],
   "source": [
    "class ImageClassifier(nn.Module):\n",
    "    def __init__(self):\n",
    "        super().__init__()\n",
    "        self.model = nn.Sequential(\n",
    "           nn.Flatten(),\n",
    "           nn.Linear(784,256),\n",
    "           nn.ReLU(),\n",
    "           nn.Linear(256,128),\n",
    "           nn.ReLU(),\n",
    "           nn.Linear(128,64),\n",
    "           nn.ReLU(),\n",
    "           nn.Linear(64,10)\n",
    "        )\n",
    "    def forward(self,x):\n",
    "        return self.model(x)\n"
   ]
  },
  {
   "cell_type": "code",
   "execution_count": 29,
   "id": "c6d1bd36",
   "metadata": {},
   "outputs": [
    {
     "data": {
      "text/plain": [
       "ImageClassifier(\n",
       "  (model): Sequential(\n",
       "    (0): Flatten(start_dim=1, end_dim=-1)\n",
       "    (1): Linear(in_features=784, out_features=256, bias=True)\n",
       "    (2): ReLU()\n",
       "    (3): Linear(in_features=256, out_features=128, bias=True)\n",
       "    (4): ReLU()\n",
       "    (5): Linear(in_features=128, out_features=64, bias=True)\n",
       "    (6): ReLU()\n",
       "    (7): Linear(in_features=64, out_features=10, bias=True)\n",
       "  )\n",
       ")"
      ]
     },
     "execution_count": 29,
     "metadata": {},
     "output_type": "execute_result"
    }
   ],
   "source": [
    "clf=ImageClassifier()\n",
    "clf.to(device)"
   ]
  },
  {
   "cell_type": "code",
   "execution_count": 30,
   "id": "0dc1c31d",
   "metadata": {},
   "outputs": [
    {
     "name": "stdout",
     "output_type": "stream",
     "text": [
      "Epoch:0 loss:0.0521 accuracy:95.81\n",
      "Epoch:1 loss:0.2613 accuracy:97.24\n",
      "Epoch:2 loss:0.0798 accuracy:97.57\n",
      "Epoch:3 loss:0.0014 accuracy:97.88\n",
      "Epoch:4 loss:0.0344 accuracy:97.81\n",
      "Epoch:5 loss:0.0150 accuracy:97.8\n",
      "Epoch:6 loss:0.0064 accuracy:97.71\n",
      "Epoch:7 loss:0.0850 accuracy:97.83\n",
      "Epoch:8 loss:0.0488 accuracy:98.26\n",
      "Epoch:9 loss:0.0142 accuracy:97.75\n"
     ]
    }
   ],
   "source": [
    "opt=Adam(clf.parameters(),lr=1e-3)\n",
    "loss_fn=nn.CrossEntropyLoss()\n",
    "\n",
    "clf.train() \n",
    "for epoch in range(10):\n",
    "    for batch in train_loader:\n",
    "        X,y=batch\n",
    "        X,y=X.to(device),y.to(device)\n",
    "        y_hat=clf(X)\n",
    "\n",
    "        loss=loss_fn(y_hat,y)\n",
    "\n",
    "            #backprop\n",
    "        opt.zero_grad()\n",
    "        loss.backward()\n",
    "        opt.step()\n",
    "    print(f\"Epoch:{epoch} loss:{loss.item():.4f} accuracy:{evaluate(clf,test_loader,device)}\")"
   ]
  },
  {
   "cell_type": "code",
   "execution_count": 31,
   "id": "d753d731",
   "metadata": {},
   "outputs": [],
   "source": [
    "with open('handwritten.pt','wb') as f:\n",
    "    save(clf.state_dict(),f)"
   ]
  }
 ],
 "metadata": {
  "kernelspec": {
   "display_name": "base",
   "language": "python",
   "name": "python3"
  },
  "language_info": {
   "codemirror_mode": {
    "name": "ipython",
    "version": 3
   },
   "file_extension": ".py",
   "mimetype": "text/x-python",
   "name": "python",
   "nbconvert_exporter": "python",
   "pygments_lexer": "ipython3",
   "version": "3.12.9"
  }
 },
 "nbformat": 4,
 "nbformat_minor": 5
}
