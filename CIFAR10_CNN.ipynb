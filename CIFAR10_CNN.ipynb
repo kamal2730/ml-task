{
 "cells": [
  {
   "cell_type": "code",
   "execution_count": 23,
   "id": "3b557828",
   "metadata": {},
   "outputs": [],
   "source": [
    "from torch import nn,save,load\n",
    "from torch.optim import Adam\n",
    "from torch.utils.data import DataLoader\n",
    "from torchvision import datasets\n",
    "from torchvision.transforms import ToTensor,transforms"
   ]
  },
  {
   "cell_type": "code",
   "execution_count": 24,
   "id": "fa1f48cc",
   "metadata": {},
   "outputs": [
    {
     "name": "stdout",
     "output_type": "stream",
     "text": [
      "Using device: mps\n"
     ]
    }
   ],
   "source": [
    "import torch\n",
    "if torch.backends.mps.is_available():\n",
    "    device = torch.device(\"mps\")\n",
    "else:\n",
    "    device = torch.device(\"cpu\")\n",
    "\n",
    "print(\"Using device:\", device)"
   ]
  },
  {
   "cell_type": "code",
   "execution_count": 25,
   "id": "c5418dd1",
   "metadata": {},
   "outputs": [],
   "source": [
    "transform = transforms.Compose([\n",
    "    transforms.ToTensor(),\n",
    "    transforms.Normalize(mean=[0.4914, 0.4822, 0.4465],\n",
    "                         std=[0.2023, 0.1994, 0.2010])\n",
    "])\n",
    "\n",
    "\n",
    "train_dataset = datasets.CIFAR10(root='./data', train=True, transform=transform, download=True)\n",
    "test_dataset = datasets.CIFAR10(root='./data', train=False, transform=transform, download=True)\n",
    "\n",
    "train_loader = DataLoader(train_dataset, batch_size=32, shuffle=True)\n",
    "test_loader = DataLoader(test_dataset, batch_size=32, shuffle=False)"
   ]
  },
  {
   "cell_type": "code",
   "execution_count": 26,
   "id": "9e4b48ba",
   "metadata": {},
   "outputs": [],
   "source": [
    "def evaluate(model, dataloader, device):\n",
    "    model.eval()  \n",
    "    correct = 0\n",
    "    total = 0\n",
    "\n",
    "    with torch.no_grad():  \n",
    "        for data, target in dataloader:\n",
    "            data, target = data.to(device), target.to(device)\n",
    "            output = model(data)\n",
    "            predictions = output.argmax(dim=1)\n",
    "            correct += (predictions == target).sum().item()\n",
    "            total += target.size(0)\n",
    "\n",
    "    accuracy = 100 * correct / total\n",
    "    return accuracy"
   ]
  },
  {
   "cell_type": "code",
   "execution_count": null,
   "id": "57efcbee",
   "metadata": {},
   "outputs": [],
   "source": [
    "class ImageClassifier(nn.Module):\n",
    "    def __init__(self):\n",
    "        super().__init__()\n",
    "        self.model = nn.Sequential(\n",
    "            nn.Conv2d(3, 32, kernel_size=3, padding=1),    \n",
    "            nn.BatchNorm2d(32),\n",
    "            nn.ReLU(),\n",
    "            nn.Dropout(0.5),\n",
    "            nn.MaxPool2d(2, 2),                          \n",
    "\n",
    "            nn.Conv2d(32, 64, kernel_size=3, padding=1),   \n",
    "            nn.BatchNorm2d(64),\n",
    "            nn.ReLU(),\n",
    "            nn.Dropout(0.5),\n",
    "            nn.MaxPool2d(2, 2),                            \n",
    "            nn.Conv2d(64, 128, kernel_size=3, padding=1),  \n",
    "            nn.BatchNorm2d(128),                           \n",
    "            nn.ReLU(),\n",
    "            nn.Dropout(0.5),\n",
    "            nn.MaxPool2d(2, 2),                            \n",
    "\n",
    "            nn.Flatten(),                                  \n",
    "            nn.Linear(2048, 256),\n",
    "            nn.ReLU(),\n",
    "            nn.Dropout(0.5),\n",
    "            nn.Linear(256, 64),\n",
    "            nn.ReLU(),\n",
    "            nn.Dropout(0.5),\n",
    "            nn.Linear(64, 10)                              \n",
    "        )\n",
    "\n",
    "    def forward(self,x):\n",
    "        return self.model(x)\n"
   ]
  },
  {
   "cell_type": "code",
   "execution_count": 28,
   "id": "c6d1bd36",
   "metadata": {},
   "outputs": [
    {
     "data": {
      "text/plain": [
       "ImageClassifier(\n",
       "  (model): Sequential(\n",
       "    (0): Conv2d(3, 32, kernel_size=(3, 3), stride=(1, 1), padding=(1, 1))\n",
       "    (1): BatchNorm2d(32, eps=1e-05, momentum=0.1, affine=True, track_running_stats=True)\n",
       "    (2): ReLU()\n",
       "    (3): Dropout(p=0.5, inplace=False)\n",
       "    (4): MaxPool2d(kernel_size=2, stride=2, padding=0, dilation=1, ceil_mode=False)\n",
       "    (5): Conv2d(32, 64, kernel_size=(3, 3), stride=(1, 1), padding=(1, 1))\n",
       "    (6): BatchNorm2d(64, eps=1e-05, momentum=0.1, affine=True, track_running_stats=True)\n",
       "    (7): ReLU()\n",
       "    (8): Dropout(p=0.5, inplace=False)\n",
       "    (9): MaxPool2d(kernel_size=2, stride=2, padding=0, dilation=1, ceil_mode=False)\n",
       "    (10): Conv2d(64, 128, kernel_size=(3, 3), stride=(1, 1), padding=(1, 1))\n",
       "    (11): BatchNorm2d(128, eps=1e-05, momentum=0.1, affine=True, track_running_stats=True)\n",
       "    (12): ReLU()\n",
       "    (13): Dropout(p=0.5, inplace=False)\n",
       "    (14): MaxPool2d(kernel_size=2, stride=2, padding=0, dilation=1, ceil_mode=False)\n",
       "    (15): Flatten(start_dim=1, end_dim=-1)\n",
       "    (16): Linear(in_features=2048, out_features=256, bias=True)\n",
       "    (17): ReLU()\n",
       "    (18): Dropout(p=0.5, inplace=False)\n",
       "    (19): Linear(in_features=256, out_features=64, bias=True)\n",
       "    (20): ReLU()\n",
       "    (21): Dropout(p=0.5, inplace=False)\n",
       "    (22): Linear(in_features=64, out_features=10, bias=True)\n",
       "  )\n",
       ")"
      ]
     },
     "execution_count": 28,
     "metadata": {},
     "output_type": "execute_result"
    }
   ],
   "source": [
    "clf=ImageClassifier()\n",
    "clf.to(device)"
   ]
  },
  {
   "cell_type": "code",
   "execution_count": 29,
   "id": "0dc1c31d",
   "metadata": {},
   "outputs": [
    {
     "name": "stdout",
     "output_type": "stream",
     "text": [
      "Epoch:0 loss:1.5003 accuracy:22.45\n",
      "Epoch:1 loss:1.8313 accuracy:64.83\n",
      "Epoch:2 loss:0.3883 accuracy:68.88\n",
      "Epoch:3 loss:0.3128 accuracy:73.52\n",
      "Epoch:4 loss:0.9699 accuracy:75.32\n",
      "Epoch:5 loss:0.4563 accuracy:75.54\n",
      "Epoch:6 loss:0.1743 accuracy:76.65\n",
      "Epoch:7 loss:0.2168 accuracy:75.86\n",
      "Epoch:8 loss:0.4353 accuracy:76.08\n",
      "Epoch:9 loss:0.3968 accuracy:75.39\n"
     ]
    }
   ],
   "source": [
    "opt=Adam(clf.parameters(),lr=1e-3)\n",
    "loss_fn=nn.CrossEntropyLoss()\n",
    "\n",
    "clf.train() \n",
    "for epoch in range(10):\n",
    "    for batch in train_loader:\n",
    "        X,y=batch\n",
    "        X,y=X.to(device),y.to(device)\n",
    "        y_hat=clf(X)\n",
    "\n",
    "        loss=loss_fn(y_hat,y)\n",
    "\n",
    "            #backprop\n",
    "        opt.zero_grad()\n",
    "        loss.backward()\n",
    "        opt.step()\n",
    "    print(f\"Epoch:{epoch} loss:{loss.item():.4f} accuracy:{evaluate(clf,test_loader,device)}\")"
   ]
  },
  {
   "cell_type": "code",
   "execution_count": 31,
   "id": "d753d731",
   "metadata": {},
   "outputs": [],
   "source": [
    "with open('cifar10_cnn.pt','wb') as f:\n",
    "    save(clf.state_dict(),f)"
   ]
  }
 ],
 "metadata": {
  "kernelspec": {
   "display_name": "base",
   "language": "python",
   "name": "python3"
  },
  "language_info": {
   "codemirror_mode": {
    "name": "ipython",
    "version": 3
   },
   "file_extension": ".py",
   "mimetype": "text/x-python",
   "name": "python",
   "nbconvert_exporter": "python",
   "pygments_lexer": "ipython3",
   "version": "3.12.9"
  }
 },
 "nbformat": 4,
 "nbformat_minor": 5
}
